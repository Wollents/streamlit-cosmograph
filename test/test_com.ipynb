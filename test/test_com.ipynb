{
 "cells": [
  {
   "cell_type": "code",
   "execution_count": 1,
   "metadata": {},
   "outputs": [],
   "source": [
    "import pandas as pd\n",
    "from cosmograph import cosmo\n",
    "import streamlit as st\n",
    "\n",
    "points = pd.DataFrame({\n",
    "    'id': [1, 2, 3, 4, 5],\n",
    "    'label': ['Node A', 'Node B', 'Node C', 'Node D', 'Node E'],\n",
    "    'value': [10, 20, 15, 25, 30],\n",
    "    'category': ['A', 'B', 'A', 'B', 'A']\n",
    "})\n",
    "\n",
    "links = pd.DataFrame({\n",
    "    'source': [1, 2, 3, 1, 2],\n",
    "    'target': [2, 3, 4, 5, 4],\n",
    "    'value': [1.0, 2.0, 1.5, 0.5, 1.8]\n",
    "})\n",
    "\n",
    "widget = cosmo(\n",
    "  points=points,\n",
    "  enable_drag=True,\n",
    "  links=links,\n",
    "  point_id_by='id',\n",
    "  link_source_by='source',\n",
    "  link_target_by='target',\n",
    "  point_color_by='category',\n",
    "  point_include_columns=['value'],\n",
    "  point_label_by='label',\n",
    "  link_include_columns=['value'],\n",
    ")"
   ]
  },
  {
   "cell_type": "code",
   "execution_count": 3,
   "metadata": {},
   "outputs": [
    {
     "name": "stderr",
     "output_type": "stream",
     "text": [
      "2025-02-24 09:37:30.847 Thread 'MainThread': missing ScriptRunContext! This warning can be ignored when running in bare mode.\n",
      "2025-02-24 09:37:30.849 Thread 'MainThread': missing ScriptRunContext! This warning can be ignored when running in bare mode.\n",
      "2025-02-24 09:37:30.850 Thread 'MainThread': missing ScriptRunContext! This warning can be ignored when running in bare mode.\n",
      "2025-02-24 09:37:30.852 Thread 'MainThread': missing ScriptRunContext! This warning can be ignored when running in bare mode.\n"
     ]
    }
   ],
   "source": [
    "st.write(\"widget\")"
   ]
  }
 ],
 "metadata": {
  "kernelspec": {
   "display_name": "cosmo_st",
   "language": "python",
   "name": "python3"
  },
  "language_info": {
   "codemirror_mode": {
    "name": "ipython",
    "version": 3
   },
   "file_extension": ".py",
   "mimetype": "text/x-python",
   "name": "python",
   "nbconvert_exporter": "python",
   "pygments_lexer": "ipython3",
   "version": "3.11.11"
  }
 },
 "nbformat": 4,
 "nbformat_minor": 2
}
